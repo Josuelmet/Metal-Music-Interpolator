{
  "cells": [
    {
      "cell_type": "markdown",
      "id": "38661108-3e67-4816-8739-ba6be30db40e",
      "metadata": {
        "id": "38661108-3e67-4816-8739-ba6be30db40e"
      },
      "source": [
        "# Neural Network Training (Run on a GPU)\n",
        "\n",
        "References: \n",
        "\n",
        "https://github.com/shubham3121/music-generation-using-rnn \n",
        "\n",
        "https://www.hackerearth.com/blog/developers/jazz-music-using-deep-learning/"
      ]
    },
    {
      "cell_type": "markdown",
      "id": "c306bae0-1a59-477d-b278-c70508b81401",
      "metadata": {
        "id": "c306bae0-1a59-477d-b278-c70508b81401"
      },
      "source": [
        "## Imports"
      ]
    },
    {
      "cell_type": "code",
      "source": [
        "!pip install mgzip\n",
        "!pip install keras-nlp"
      ],
      "metadata": {
        "colab": {
          "base_uri": "https://localhost:8080/"
        },
        "id": "E79K6sD4esyX",
        "outputId": "90735f6c-3954-4feb-afc2-3bdeb913decd"
      },
      "id": "E79K6sD4esyX",
      "execution_count": null,
      "outputs": [
        {
          "output_type": "stream",
          "name": "stdout",
          "text": [
            "Looking in indexes: https://pypi.org/simple, https://us-python.pkg.dev/colab-wheels/public/simple/\n",
            "Requirement already satisfied: mgzip in /usr/local/lib/python3.7/dist-packages (0.2.1)\n",
            "Looking in indexes: https://pypi.org/simple, https://us-python.pkg.dev/colab-wheels/public/simple/\n",
            "Requirement already satisfied: keras-nlp in /usr/local/lib/python3.7/dist-packages (0.3.0)\n",
            "Requirement already satisfied: tensorflow in /usr/local/lib/python3.7/dist-packages (from keras-nlp) (2.8.2+zzzcolab20220719082949)\n",
            "Requirement already satisfied: tensorflow-text in /usr/local/lib/python3.7/dist-packages (from keras-nlp) (2.8.2)\n",
            "Requirement already satisfied: absl-py in /usr/local/lib/python3.7/dist-packages (from keras-nlp) (1.2.0)\n",
            "Requirement already satisfied: packaging in /usr/local/lib/python3.7/dist-packages (from keras-nlp) (21.3)\n",
            "Requirement already satisfied: numpy in /usr/local/lib/python3.7/dist-packages (from keras-nlp) (1.21.6)\n",
            "Requirement already satisfied: pyparsing!=3.0.5,>=2.0.2 in /usr/local/lib/python3.7/dist-packages (from packaging->keras-nlp) (3.0.9)\n",
            "Requirement already satisfied: tensorflow-estimator<2.9,>=2.8 in /usr/local/lib/python3.7/dist-packages (from tensorflow->keras-nlp) (2.8.0)\n",
            "Requirement already satisfied: tensorflow-io-gcs-filesystem>=0.23.1 in /usr/local/lib/python3.7/dist-packages (from tensorflow->keras-nlp) (0.26.0)\n",
            "Requirement already satisfied: grpcio<2.0,>=1.24.3 in /usr/local/lib/python3.7/dist-packages (from tensorflow->keras-nlp) (1.47.0)\n",
            "Requirement already satisfied: protobuf<3.20,>=3.9.2 in /usr/local/lib/python3.7/dist-packages (from tensorflow->keras-nlp) (3.17.3)\n",
            "Requirement already satisfied: keras<2.9,>=2.8.0rc0 in /usr/local/lib/python3.7/dist-packages (from tensorflow->keras-nlp) (2.8.0)\n",
            "Requirement already satisfied: typing-extensions>=3.6.6 in /usr/local/lib/python3.7/dist-packages (from tensorflow->keras-nlp) (4.1.1)\n",
            "Requirement already satisfied: termcolor>=1.1.0 in /usr/local/lib/python3.7/dist-packages (from tensorflow->keras-nlp) (1.1.0)\n",
            "Requirement already satisfied: google-pasta>=0.1.1 in /usr/local/lib/python3.7/dist-packages (from tensorflow->keras-nlp) (0.2.0)\n",
            "Requirement already satisfied: tensorboard<2.9,>=2.8 in /usr/local/lib/python3.7/dist-packages (from tensorflow->keras-nlp) (2.8.0)\n",
            "Requirement already satisfied: keras-preprocessing>=1.1.1 in /usr/local/lib/python3.7/dist-packages (from tensorflow->keras-nlp) (1.1.2)\n",
            "Requirement already satisfied: six>=1.12.0 in /usr/local/lib/python3.7/dist-packages (from tensorflow->keras-nlp) (1.15.0)\n",
            "Requirement already satisfied: astunparse>=1.6.0 in /usr/local/lib/python3.7/dist-packages (from tensorflow->keras-nlp) (1.6.3)\n",
            "Requirement already satisfied: h5py>=2.9.0 in /usr/local/lib/python3.7/dist-packages (from tensorflow->keras-nlp) (3.1.0)\n",
            "Requirement already satisfied: gast>=0.2.1 in /usr/local/lib/python3.7/dist-packages (from tensorflow->keras-nlp) (0.5.3)\n",
            "Requirement already satisfied: setuptools in /usr/local/lib/python3.7/dist-packages (from tensorflow->keras-nlp) (57.4.0)\n",
            "Requirement already satisfied: wrapt>=1.11.0 in /usr/local/lib/python3.7/dist-packages (from tensorflow->keras-nlp) (1.14.1)\n",
            "Requirement already satisfied: opt-einsum>=2.3.2 in /usr/local/lib/python3.7/dist-packages (from tensorflow->keras-nlp) (3.3.0)\n",
            "Requirement already satisfied: flatbuffers>=1.12 in /usr/local/lib/python3.7/dist-packages (from tensorflow->keras-nlp) (2.0)\n",
            "Requirement already satisfied: libclang>=9.0.1 in /usr/local/lib/python3.7/dist-packages (from tensorflow->keras-nlp) (14.0.6)\n",
            "Requirement already satisfied: wheel<1.0,>=0.23.0 in /usr/local/lib/python3.7/dist-packages (from astunparse>=1.6.0->tensorflow->keras-nlp) (0.37.1)\n",
            "Requirement already satisfied: cached-property in /usr/local/lib/python3.7/dist-packages (from h5py>=2.9.0->tensorflow->keras-nlp) (1.5.2)\n",
            "Requirement already satisfied: tensorboard-data-server<0.7.0,>=0.6.0 in /usr/local/lib/python3.7/dist-packages (from tensorboard<2.9,>=2.8->tensorflow->keras-nlp) (0.6.1)\n",
            "Requirement already satisfied: markdown>=2.6.8 in /usr/local/lib/python3.7/dist-packages (from tensorboard<2.9,>=2.8->tensorflow->keras-nlp) (3.4.1)\n",
            "Requirement already satisfied: werkzeug>=0.11.15 in /usr/local/lib/python3.7/dist-packages (from tensorboard<2.9,>=2.8->tensorflow->keras-nlp) (1.0.1)\n",
            "Requirement already satisfied: tensorboard-plugin-wit>=1.6.0 in /usr/local/lib/python3.7/dist-packages (from tensorboard<2.9,>=2.8->tensorflow->keras-nlp) (1.8.1)\n",
            "Requirement already satisfied: google-auth-oauthlib<0.5,>=0.4.1 in /usr/local/lib/python3.7/dist-packages (from tensorboard<2.9,>=2.8->tensorflow->keras-nlp) (0.4.6)\n",
            "Requirement already satisfied: requests<3,>=2.21.0 in /usr/local/lib/python3.7/dist-packages (from tensorboard<2.9,>=2.8->tensorflow->keras-nlp) (2.23.0)\n",
            "Requirement already satisfied: google-auth<3,>=1.6.3 in /usr/local/lib/python3.7/dist-packages (from tensorboard<2.9,>=2.8->tensorflow->keras-nlp) (1.35.0)\n",
            "Requirement already satisfied: cachetools<5.0,>=2.0.0 in /usr/local/lib/python3.7/dist-packages (from google-auth<3,>=1.6.3->tensorboard<2.9,>=2.8->tensorflow->keras-nlp) (4.2.4)\n",
            "Requirement already satisfied: pyasn1-modules>=0.2.1 in /usr/local/lib/python3.7/dist-packages (from google-auth<3,>=1.6.3->tensorboard<2.9,>=2.8->tensorflow->keras-nlp) (0.2.8)\n",
            "Requirement already satisfied: rsa<5,>=3.1.4 in /usr/local/lib/python3.7/dist-packages (from google-auth<3,>=1.6.3->tensorboard<2.9,>=2.8->tensorflow->keras-nlp) (4.9)\n",
            "Requirement already satisfied: requests-oauthlib>=0.7.0 in /usr/local/lib/python3.7/dist-packages (from google-auth-oauthlib<0.5,>=0.4.1->tensorboard<2.9,>=2.8->tensorflow->keras-nlp) (1.3.1)\n",
            "Requirement already satisfied: importlib-metadata>=4.4 in /usr/local/lib/python3.7/dist-packages (from markdown>=2.6.8->tensorboard<2.9,>=2.8->tensorflow->keras-nlp) (4.12.0)\n",
            "Requirement already satisfied: zipp>=0.5 in /usr/local/lib/python3.7/dist-packages (from importlib-metadata>=4.4->markdown>=2.6.8->tensorboard<2.9,>=2.8->tensorflow->keras-nlp) (3.8.1)\n",
            "Requirement already satisfied: pyasn1<0.5.0,>=0.4.6 in /usr/local/lib/python3.7/dist-packages (from pyasn1-modules>=0.2.1->google-auth<3,>=1.6.3->tensorboard<2.9,>=2.8->tensorflow->keras-nlp) (0.4.8)\n",
            "Requirement already satisfied: chardet<4,>=3.0.2 in /usr/local/lib/python3.7/dist-packages (from requests<3,>=2.21.0->tensorboard<2.9,>=2.8->tensorflow->keras-nlp) (3.0.4)\n",
            "Requirement already satisfied: certifi>=2017.4.17 in /usr/local/lib/python3.7/dist-packages (from requests<3,>=2.21.0->tensorboard<2.9,>=2.8->tensorflow->keras-nlp) (2022.6.15)\n",
            "Requirement already satisfied: urllib3!=1.25.0,!=1.25.1,<1.26,>=1.21.1 in /usr/local/lib/python3.7/dist-packages (from requests<3,>=2.21.0->tensorboard<2.9,>=2.8->tensorflow->keras-nlp) (1.24.3)\n",
            "Requirement already satisfied: idna<3,>=2.5 in /usr/local/lib/python3.7/dist-packages (from requests<3,>=2.21.0->tensorboard<2.9,>=2.8->tensorflow->keras-nlp) (2.10)\n",
            "Requirement already satisfied: oauthlib>=3.0.0 in /usr/local/lib/python3.7/dist-packages (from requests-oauthlib>=0.7.0->google-auth-oauthlib<0.5,>=0.4.1->tensorboard<2.9,>=2.8->tensorflow->keras-nlp) (3.2.0)\n",
            "Requirement already satisfied: tensorflow-hub>=0.8.0 in /usr/local/lib/python3.7/dist-packages (from tensorflow-text->keras-nlp) (0.12.0)\n"
          ]
        }
      ]
    },
    {
      "cell_type": "code",
      "execution_count": null,
      "id": "56ce891a-3f0b-4502-a536-9b16d0267e34",
      "metadata": {
        "id": "56ce891a-3f0b-4502-a536-9b16d0267e34"
      },
      "outputs": [],
      "source": [
        "from matplotlib import pyplot as plt\n",
        "import mgzip\n",
        "import numpy as np\n",
        "import pandas as pd\n",
        "import pickle\n",
        "from sklearn.model_selection import train_test_split\n",
        "from tqdm import tqdm\n",
        "\n",
        "import tensorflow as tf\n",
        "from tensorflow import keras\n",
        "from tensorflow.keras.callbacks import *\n",
        "from keras.initializers import Constant\n",
        "from tensorflow.keras.layers import *\n",
        "from tensorflow.keras.models import Sequential\n",
        "from tensorflow.keras.optimizers import *\n",
        "\n",
        "from keras_nlp.layers import PositionEmbedding"
      ]
    },
    {
      "cell_type": "markdown",
      "source": [
        "## Hyperparameters"
      ],
      "metadata": {
        "id": "FQjRAfTI6vX5"
      },
      "id": "FQjRAfTI6vX5"
    },
    {
      "cell_type": "code",
      "source": [
        "# Best hyperparameters so far:\n",
        "# 72% training accuracy and 63% validation accuracy:\n",
        "#   lr = 0.003 with num_heads = 10 with beta1 = 0.96 with feed_forward_dim = 512\n",
        "#   with embed_dim = 'auto' (72) with 3 transformer blocks with with dropout = 0.3\n",
        "#   Ended up stopping at epoch 118.\n",
        "\n",
        "dropout_rate = 0.1 * 3\n",
        "embed_dim = 'auto' #256 # Embedding size for each token\n",
        "feed_forward_dim = 256 * 2\n",
        "\n",
        "num_heads = 10 #10 #8  # Number of attention heads\n",
        "\n",
        "lr = 0.003 #0.002\n",
        "beta1 = 0.96 #0.95\n",
        "#optimizer = Adam(schedules.ExponentialDecay(lr, decay_steps=20, decay_rate=0.9))\n",
        "optimizer = Adam(lr, beta1)\n",
        "batch = 128 * 4 #16\n",
        "\n",
        "validation_set = True\n",
        "if validation_set:\n",
        "  max_epochs = 200\n",
        "  early_stopping = True\n",
        "else:\n",
        "  max_epochs = 300\n",
        "  early_stopping = False\n",
        "\n",
        "data_augmentation = True"
      ],
      "metadata": {
        "id": "KRhqg04t6x3g"
      },
      "id": "KRhqg04t6x3g",
      "execution_count": null,
      "outputs": []
    },
    {
      "cell_type": "markdown",
      "id": "9dd04675-1e78-46ee-9e53-2c13fbfa4158",
      "metadata": {
        "id": "9dd04675-1e78-46ee-9e53-2c13fbfa4158"
      },
      "source": [
        "## Load Data"
      ]
    },
    {
      "cell_type": "code",
      "source": [
        "with mgzip.open('notes_data.pickle.gz', 'rb') as filepath:   \n",
        "    notes = pickle.load(filepath)\n",
        "    note_to_int = pickle.load(filepath)\n",
        "    int_to_note = pickle.load(filepath)\n",
        "    n_vocab = pickle.load(filepath)\n",
        "\n",
        "#with mgzip.open('track_data.pickle.gz', 'rb') as filepath:\n",
        "#    track_data = pickle.load(filepath)\n",
        "    \n",
        "\n",
        "ints = np.array([note_to_int[note] for note in notes])\n",
        "idx = 100 * ((len(ints) - 1) // 100)\n",
        "\n",
        "X = ints[:idx].reshape((-1, 100))\n",
        "Y = ints[1:idx+1].reshape((-1, 100))\n",
        "\n",
        "if validation_set:\n",
        "  x_train, x_val, y_train, y_val = train_test_split(X, Y, random_state=0, test_size=0.1)\n",
        "else:\n",
        "  if data_augmentation:\n",
        "    # See: https://lilianweng.github.io/posts/2022-04-15-data-gen/ \n",
        "    x_train = np.vstack((X, X + np.random.normal(scale=2, size=X.shape).round()))\n",
        "    y_train = np.vstack((Y, Y))\n",
        "  else:\n",
        "    x_train = X\n",
        "    y_train = Y\n",
        "\n",
        "train_dataset = tf.data.Dataset.from_tensor_slices((x_train, y_train)).batch(batch)"
      ],
      "metadata": {
        "id": "xDs-AlHLE0Jh"
      },
      "id": "xDs-AlHLE0Jh",
      "execution_count": null,
      "outputs": []
    },
    {
      "cell_type": "markdown",
      "source": [
        "# Transformer code"
      ],
      "metadata": {
        "id": "-mzlsV_Fnqjo"
      },
      "id": "-mzlsV_Fnqjo"
    },
    {
      "cell_type": "code",
      "source": [
        "n_semitones = int(int_to_note[n_vocab-1][0]) + 1 # Include 0\n",
        "n_categories = n_semitones + 3 # add 3 for dead, tied, and rest notes.\n",
        "\n",
        "n_durations = int(np.log2(max([v[1] for v in int_to_note.values()]))) + 1\n",
        "\n",
        "token_embeddings = np.zeros((n_vocab, n_categories))\n",
        "\n",
        "for k, v in int_to_note.items():\n",
        "  if v[0] == 'tied':\n",
        "    idx = -3\n",
        "  elif v[0] == 'rest':\n",
        "    idx = -2\n",
        "  elif v[0] == 'dead':\n",
        "    idx = -1\n",
        "  else:\n",
        "    idx = int(v[0].split('_')[0])\n",
        "  \n",
        "  token_embeddings[k][idx] = 1\n",
        "\n",
        "\n",
        "other_embeddings = np.zeros((n_vocab, n_durations + 2)) # Add 2 for isDotted and palmMute\n",
        "\n",
        "for k, v in int_to_note.items():\n",
        "  duration = int(v[1])\n",
        "  idx = int(np.log2(duration))\n",
        "  other_embeddings[k][idx] = 1\n",
        "\n",
        "  other_embeddings[k][-2] = v[2]\n",
        "  other_embeddings[k][-1] = v[3]\n",
        "\n",
        "\n",
        "token_embeddings = np.hstack((token_embeddings, other_embeddings))\n",
        "token_embeddings -= token_embeddings.mean()\n",
        "\n",
        "if embed_dim == 'auto':\n",
        "  embed_dim = token_embeddings.shape[1]"
      ],
      "metadata": {
        "id": "qJahTQFZG234"
      },
      "id": "qJahTQFZG234",
      "execution_count": null,
      "outputs": []
    },
    {
      "cell_type": "code",
      "source": [
        "# Code taken from https://keras.io/examples/generative/text_generation_with_miniature_gpt/\n",
        "\n",
        "def causal_attention_mask(batch_size, n_dest, n_src, dtype):\n",
        "    \"\"\"\n",
        "    Mask the upper half of the dot product matrix in self attention.\n",
        "    This prevents flow of information from future tokens to current token.\n",
        "    1's in the lower triangle, counting from the lower right corner.\n",
        "    \"\"\"\n",
        "    i = tf.range(n_dest)[:, None]\n",
        "    j = tf.range(n_src)\n",
        "    m = i >= j - n_src + n_dest\n",
        "    mask = tf.cast(m, dtype)\n",
        "    mask = tf.reshape(mask, [1, n_dest, n_src])\n",
        "    mult = tf.concat(\n",
        "        [tf.expand_dims(batch_size, -1), tf.constant([1, 1], dtype=tf.int32)], 0\n",
        "    )\n",
        "    return tf.tile(mask, mult)\n",
        "\n",
        "\n",
        "class TransformerBlock(Layer):\n",
        "    def __init__(self, embed_dim, num_heads, ff_dim, rate=0.1):\n",
        "        super(TransformerBlock, self).__init__()\n",
        "        self.att = MultiHeadAttention(num_heads, embed_dim)\n",
        "        self.ffn = keras.Sequential(\n",
        "            [Dense(ff_dim, activation=\"relu\"),\n",
        "             Dense(embed_dim),]\n",
        "        )\n",
        "        self.layernorm1 = LayerNormalization(epsilon=1e-6)\n",
        "        self.layernorm2 = LayerNormalization(epsilon=1e-6)\n",
        "        self.dropout1 = Dropout(rate)\n",
        "        self.dropout2 = Dropout(rate)\n",
        "\n",
        "    def call(self, inputs):\n",
        "        input_shape = tf.shape(inputs)\n",
        "        batch_size = input_shape[0]\n",
        "        seq_len = input_shape[1]\n",
        "        causal_mask = causal_attention_mask(batch_size, seq_len, seq_len, tf.bool)\n",
        "        attention_output = self.att(inputs, inputs, attention_mask=causal_mask)\n",
        "        attention_output = self.dropout1(attention_output)\n",
        "        out1 = self.layernorm1(inputs + attention_output)\n",
        "        ffn_output = self.ffn(out1)\n",
        "        ffn_output = self.dropout2(ffn_output)\n",
        "        return self.layernorm2(out1 + ffn_output)\n",
        "\n",
        "\n",
        "class TokenAndPositionEmbedding(Layer):\n",
        "    def __init__(self, maxlen, vocab_size, embed_dim):\n",
        "        super(TokenAndPositionEmbedding, self).__init__()\n",
        "        #self.token_emb = Embedding(input_dim=vocab_size, output_dim=embed_dim)\n",
        "        self.token_emb = Embedding(input_dim=vocab_size, output_dim=embed_dim,\n",
        "                                    embeddings_initializer=Constant(token_embeddings))\n",
        "        #self.pos_emb = Embedding(input_dim=maxlen, output_dim=embed_dim)\n",
        "        self.pos_emb = PositionEmbedding(sequence_length=maxlen)\n",
        "\n",
        "    def call(self, x):\n",
        "        maxlen = tf.shape(x)[-1]\n",
        "        #positions = tf.range(start=0, limit=maxlen, delta=1)\n",
        "        #positions = self.pos_emb(positions)\n",
        "        x = self.token_emb(x)\n",
        "        positions = self.pos_emb(x)\n",
        "        return x + positions\n"
      ],
      "metadata": {
        "id": "2Ro3bK1DrzmN"
      },
      "id": "2Ro3bK1DrzmN",
      "execution_count": null,
      "outputs": []
    },
    {
      "cell_type": "code",
      "source": [
        "vocab_size = n_vocab\n",
        "maxlen = 100\n",
        "\n",
        "\n",
        "def create_model():\n",
        "    inputs = Input(shape=(maxlen,), dtype=tf.int32)\n",
        "    embedding_layer = TokenAndPositionEmbedding(maxlen, vocab_size, embed_dim)\n",
        "    x = embedding_layer(inputs)\n",
        "    \n",
        "    #transformer_blocks = keras.Sequential([TransformerBlock(embed_dim, num_heads, feed_forward_dim) for _ in range(num_transformer_blocks)])\n",
        "    #x = transformer_blocks(x)\n",
        "    transformer_block = TransformerBlock(embed_dim, num_heads, feed_forward_dim, rate=dropout_rate)\n",
        "    x = transformer_block(x)\n",
        "    transformer_block2 = TransformerBlock(embed_dim, num_heads, feed_forward_dim, rate=dropout_rate)\n",
        "    x = transformer_block2(x)\n",
        "    transformer_block3 = TransformerBlock(embed_dim, num_heads, feed_forward_dim, rate=dropout_rate)\n",
        "    x = transformer_block3(x)\n",
        "\n",
        "    #outputs = Dense(vocab_size, name='dense')(x)\n",
        "    x = Dense(vocab_size, activation='sigmoid')(x)\n",
        "    outputs = Dense(vocab_size, name='dense')(x)\n",
        "\n",
        "    model = keras.Model(inputs=inputs, outputs=[outputs, x])\n",
        "    loss_fn = tf.keras.losses.SparseCategoricalCrossentropy(from_logits=True)\n",
        "    model.compile(\n",
        "        optimizer=optimizer, loss=[loss_fn, None], metrics=['accuracy']\n",
        "    )  # No loss and optimization based on word embeddings from transformer block\n",
        "    return model"
      ],
      "metadata": {
        "id": "s50bnu2NsIP8"
      },
      "id": "s50bnu2NsIP8",
      "execution_count": null,
      "outputs": []
    },
    {
      "cell_type": "markdown",
      "source": [
        "# Training"
      ],
      "metadata": {
        "id": "vfSA1zJFyD57"
      },
      "id": "vfSA1zJFyD57"
    },
    {
      "cell_type": "code",
      "source": [
        "model = create_model()\n",
        "\n",
        "if validation_set:\n",
        "  validation_data = (x_val, y_val)\n",
        "  if early_stopping:\n",
        "    callbacks = [EarlyStopping(monitor='val_dense_loss', mode='min', patience=8,\n",
        "                              verbose=1, restore_best_weights=True)]\n",
        "else:\n",
        "  validation_data = None\n",
        "  callbacks = None\n",
        "\n",
        "# Should get at least ~34% training and 34% validation accuracy by epoch 10\n",
        "# Should get at least ~59% training and 54% validation accuracy be epoch 50\n",
        "history = model.fit(train_dataset, epochs=max_epochs, batch_size=batch, validation_data=validation_data,\n",
        "                    callbacks=callbacks)"
      ],
      "metadata": {
        "colab": {
          "base_uri": "https://localhost:8080/"
        },
        "id": "futihTzMu39M",
        "outputId": "27f2f14e-8023-4cc8-a061-cccf5dac885b"
      },
      "id": "futihTzMu39M",
      "execution_count": null,
      "outputs": [
        {
          "output_type": "stream",
          "name": "stdout",
          "text": [
            "Epoch 1/200\n",
            "10/10 [==============================] - 15s 815ms/step - loss: 6.0362 - dense_loss: 6.0362 - dense_accuracy: 0.0743 - dense_6_accuracy: 4.3044e-04 - val_loss: 5.4219 - val_dense_loss: 5.4219 - val_dense_accuracy: 0.1321 - val_dense_6_accuracy: 3.6697e-05\n",
            "Epoch 2/200\n",
            "10/10 [==============================] - 6s 630ms/step - loss: 5.0885 - dense_loss: 5.0885 - dense_accuracy: 0.1322 - dense_6_accuracy: 1.8360e-04 - val_loss: 4.7409 - val_dense_loss: 4.7409 - val_dense_accuracy: 0.1520 - val_dense_6_accuracy: 4.4037e-04\n",
            "Epoch 3/200\n",
            "10/10 [==============================] - 6s 635ms/step - loss: 4.5607 - dense_loss: 4.5607 - dense_accuracy: 0.1552 - dense_6_accuracy: 4.1820e-04 - val_loss: 4.3555 - val_dense_loss: 4.3555 - val_dense_accuracy: 0.1883 - val_dense_6_accuracy: 1.6514e-04\n",
            "Epoch 4/200\n",
            "10/10 [==============================] - 6s 639ms/step - loss: 4.2093 - dense_loss: 4.2093 - dense_accuracy: 0.1898 - dense_6_accuracy: 3.2232e-04 - val_loss: 4.0654 - val_dense_loss: 4.0654 - val_dense_accuracy: 0.2105 - val_dense_6_accuracy: 1.1009e-04\n",
            "Epoch 5/200\n",
            "10/10 [==============================] - 6s 642ms/step - loss: 3.9155 - dense_loss: 3.9155 - dense_accuracy: 0.2186 - dense_6_accuracy: 2.5296e-04 - val_loss: 3.7958 - val_dense_loss: 3.7958 - val_dense_accuracy: 0.2438 - val_dense_6_accuracy: 9.1743e-05\n",
            "Epoch 6/200\n",
            "10/10 [==============================] - 6s 648ms/step - loss: 3.6536 - dense_loss: 3.6536 - dense_accuracy: 0.2560 - dense_6_accuracy: 3.5292e-04 - val_loss: 3.5584 - val_dense_loss: 3.5584 - val_dense_accuracy: 0.2712 - val_dense_6_accuracy: 3.4862e-04\n",
            "Epoch 7/200\n",
            "10/10 [==============================] - 7s 653ms/step - loss: 3.4314 - dense_loss: 3.4314 - dense_accuracy: 0.2853 - dense_6_accuracy: 2.7744e-04 - val_loss: 3.3802 - val_dense_loss: 3.3802 - val_dense_accuracy: 0.2921 - val_dense_6_accuracy: 3.4862e-04\n",
            "Epoch 8/200\n",
            "10/10 [==============================] - 7s 658ms/step - loss: 3.2453 - dense_loss: 3.2453 - dense_accuracy: 0.3056 - dense_6_accuracy: 2.4888e-04 - val_loss: 3.2259 - val_dense_loss: 3.2259 - val_dense_accuracy: 0.3102 - val_dense_6_accuracy: 1.2844e-04\n",
            "Epoch 9/200\n",
            "10/10 [==============================] - 7s 675ms/step - loss: 3.0953 - dense_loss: 3.0953 - dense_accuracy: 0.3228 - dense_6_accuracy: 2.0196e-04 - val_loss: 3.0963 - val_dense_loss: 3.0963 - val_dense_accuracy: 0.3226 - val_dense_6_accuracy: 7.3394e-05\n",
            "Epoch 10/200\n",
            "10/10 [==============================] - 7s 655ms/step - loss: 2.9695 - dense_loss: 2.9695 - dense_accuracy: 0.3382 - dense_6_accuracy: 2.0400e-04 - val_loss: 2.9820 - val_dense_loss: 2.9820 - val_dense_accuracy: 0.3388 - val_dense_6_accuracy: 1.1009e-04\n",
            "Epoch 11/200\n",
            "10/10 [==============================] - 7s 654ms/step - loss: 2.8664 - dense_loss: 2.8664 - dense_accuracy: 0.3521 - dense_6_accuracy: 2.1624e-04 - val_loss: 2.9033 - val_dense_loss: 2.9033 - val_dense_accuracy: 0.3554 - val_dense_6_accuracy: 1.6514e-04\n",
            "Epoch 12/200\n",
            "10/10 [==============================] - 7s 656ms/step - loss: 2.7795 - dense_loss: 2.7795 - dense_accuracy: 0.3646 - dense_6_accuracy: 2.3256e-04 - val_loss: 2.8317 - val_dense_loss: 2.8317 - val_dense_accuracy: 0.3591 - val_dense_6_accuracy: 2.3853e-04\n",
            "Epoch 13/200\n",
            "10/10 [==============================] - 7s 654ms/step - loss: 2.7019 - dense_loss: 2.7019 - dense_accuracy: 0.3754 - dense_6_accuracy: 3.1416e-04 - val_loss: 2.7683 - val_dense_loss: 2.7683 - val_dense_accuracy: 0.3720 - val_dense_6_accuracy: 1.1009e-04\n",
            "Epoch 14/200\n",
            "10/10 [==============================] - 7s 650ms/step - loss: 2.6291 - dense_loss: 2.6291 - dense_accuracy: 0.3857 - dense_6_accuracy: 3.5700e-04 - val_loss: 2.7136 - val_dense_loss: 2.7136 - val_dense_accuracy: 0.3772 - val_dense_6_accuracy: 1.8349e-04\n",
            "Epoch 15/200\n",
            "10/10 [==============================] - 6s 645ms/step - loss: 2.5613 - dense_loss: 2.5613 - dense_accuracy: 0.3967 - dense_6_accuracy: 4.7736e-04 - val_loss: 2.6567 - val_dense_loss: 2.6567 - val_dense_accuracy: 0.3863 - val_dense_6_accuracy: 7.7064e-04\n",
            "Epoch 16/200\n",
            "10/10 [==============================] - 6s 649ms/step - loss: 2.4977 - dense_loss: 2.4977 - dense_accuracy: 0.4066 - dense_6_accuracy: 5.9976e-04 - val_loss: 2.5974 - val_dense_loss: 2.5974 - val_dense_accuracy: 0.3971 - val_dense_6_accuracy: 1.6514e-04\n",
            "Epoch 17/200\n",
            "10/10 [==============================] - 7s 655ms/step - loss: 2.4381 - dense_loss: 2.4381 - dense_accuracy: 0.4166 - dense_6_accuracy: 5.1408e-04 - val_loss: 2.5503 - val_dense_loss: 2.5503 - val_dense_accuracy: 0.4053 - val_dense_6_accuracy: 8.4404e-04\n",
            "Epoch 18/200\n",
            "10/10 [==============================] - 7s 656ms/step - loss: 2.3872 - dense_loss: 2.3872 - dense_accuracy: 0.4252 - dense_6_accuracy: 4.8348e-04 - val_loss: 2.5119 - val_dense_loss: 2.5119 - val_dense_accuracy: 0.4067 - val_dense_6_accuracy: 7.5229e-04\n",
            "Epoch 19/200\n",
            "10/10 [==============================] - 7s 654ms/step - loss: 2.3341 - dense_loss: 2.3341 - dense_accuracy: 0.4338 - dense_6_accuracy: 3.9372e-04 - val_loss: 2.4730 - val_dense_loss: 2.4730 - val_dense_accuracy: 0.4165 - val_dense_6_accuracy: 8.4404e-04\n",
            "Epoch 20/200\n",
            "10/10 [==============================] - 7s 652ms/step - loss: 2.2854 - dense_loss: 2.2854 - dense_accuracy: 0.4415 - dense_6_accuracy: 4.4268e-04 - val_loss: 2.4308 - val_dense_loss: 2.4308 - val_dense_accuracy: 0.4247 - val_dense_6_accuracy: 5.6881e-04\n",
            "Epoch 21/200\n",
            "10/10 [==============================] - 7s 653ms/step - loss: 2.2426 - dense_loss: 2.2426 - dense_accuracy: 0.4486 - dense_6_accuracy: 4.6308e-04 - val_loss: 2.3895 - val_dense_loss: 2.3895 - val_dense_accuracy: 0.4319 - val_dense_6_accuracy: 8.2569e-04\n",
            "Epoch 22/200\n",
            "10/10 [==============================] - 7s 650ms/step - loss: 2.1970 - dense_loss: 2.1970 - dense_accuracy: 0.4580 - dense_6_accuracy: 4.8552e-04 - val_loss: 2.3666 - val_dense_loss: 2.3666 - val_dense_accuracy: 0.4364 - val_dense_6_accuracy: 0.0013\n",
            "Epoch 23/200\n",
            "10/10 [==============================] - 7s 649ms/step - loss: 2.1591 - dense_loss: 2.1591 - dense_accuracy: 0.4648 - dense_6_accuracy: 5.7324e-04 - val_loss: 2.3285 - val_dense_loss: 2.3285 - val_dense_accuracy: 0.4444 - val_dense_6_accuracy: 9.9083e-04\n",
            "Epoch 24/200\n",
            "10/10 [==============================] - 7s 652ms/step - loss: 2.1181 - dense_loss: 2.1181 - dense_accuracy: 0.4734 - dense_6_accuracy: 6.8951e-04 - val_loss: 2.3045 - val_dense_loss: 2.3045 - val_dense_accuracy: 0.4499 - val_dense_6_accuracy: 6.2385e-04\n",
            "Epoch 25/200\n",
            "10/10 [==============================] - 7s 656ms/step - loss: 2.0806 - dense_loss: 2.0806 - dense_accuracy: 0.4803 - dense_6_accuracy: 5.7528e-04 - val_loss: 2.2793 - val_dense_loss: 2.2793 - val_dense_accuracy: 0.4544 - val_dense_6_accuracy: 7.7064e-04\n",
            "Epoch 26/200\n",
            "10/10 [==============================] - 7s 659ms/step - loss: 2.0439 - dense_loss: 2.0439 - dense_accuracy: 0.4872 - dense_6_accuracy: 4.8756e-04 - val_loss: 2.2565 - val_dense_loss: 2.2565 - val_dense_accuracy: 0.4596 - val_dense_6_accuracy: 0.0014\n",
            "Epoch 27/200\n",
            "10/10 [==============================] - 7s 654ms/step - loss: 2.0112 - dense_loss: 2.0112 - dense_accuracy: 0.4940 - dense_6_accuracy: 5.8956e-04 - val_loss: 2.2272 - val_dense_loss: 2.2272 - val_dense_accuracy: 0.4668 - val_dense_6_accuracy: 0.0013\n",
            "Epoch 28/200\n",
            "10/10 [==============================] - 7s 653ms/step - loss: 1.9783 - dense_loss: 1.9783 - dense_accuracy: 0.4998 - dense_6_accuracy: 6.3035e-04 - val_loss: 2.2037 - val_dense_loss: 2.2037 - val_dense_accuracy: 0.4716 - val_dense_6_accuracy: 8.9908e-04\n",
            "Epoch 29/200\n",
            "10/10 [==============================] - 7s 653ms/step - loss: 1.9461 - dense_loss: 1.9461 - dense_accuracy: 0.5067 - dense_6_accuracy: 4.0188e-04 - val_loss: 2.1807 - val_dense_loss: 2.1807 - val_dense_accuracy: 0.4721 - val_dense_6_accuracy: 8.4404e-04\n",
            "Epoch 30/200\n",
            "10/10 [==============================] - 7s 654ms/step - loss: 1.9136 - dense_loss: 1.9136 - dense_accuracy: 0.5129 - dense_6_accuracy: 3.9168e-04 - val_loss: 2.1517 - val_dense_loss: 2.1517 - val_dense_accuracy: 0.4790 - val_dense_6_accuracy: 5.5046e-04\n",
            "Epoch 31/200\n",
            "10/10 [==============================] - 7s 648ms/step - loss: 1.8863 - dense_loss: 1.8863 - dense_accuracy: 0.5188 - dense_6_accuracy: 3.2436e-04 - val_loss: 2.1403 - val_dense_loss: 2.1403 - val_dense_accuracy: 0.4816 - val_dense_6_accuracy: 3.6697e-04\n",
            "Epoch 32/200\n",
            "10/10 [==============================] - 6s 649ms/step - loss: 1.8606 - dense_loss: 1.8606 - dense_accuracy: 0.5232 - dense_6_accuracy: 3.7128e-04 - val_loss: 2.1219 - val_dense_loss: 2.1219 - val_dense_accuracy: 0.4874 - val_dense_6_accuracy: 7.8899e-04\n",
            "Epoch 33/200\n",
            "10/10 [==============================] - 7s 649ms/step - loss: 1.8345 - dense_loss: 1.8345 - dense_accuracy: 0.5295 - dense_6_accuracy: 4.0800e-04 - val_loss: 2.1011 - val_dense_loss: 2.1011 - val_dense_accuracy: 0.4958 - val_dense_6_accuracy: 4.4037e-04\n",
            "Epoch 34/200\n",
            "10/10 [==============================] - 7s 655ms/step - loss: 1.8108 - dense_loss: 1.8108 - dense_accuracy: 0.5344 - dense_6_accuracy: 3.0600e-04 - val_loss: 2.0870 - val_dense_loss: 2.0870 - val_dense_accuracy: 0.4928 - val_dense_6_accuracy: 2.0183e-04\n",
            "Epoch 35/200\n",
            "10/10 [==============================] - 7s 656ms/step - loss: 1.7843 - dense_loss: 1.7843 - dense_accuracy: 0.5380 - dense_6_accuracy: 2.7744e-04 - val_loss: 2.0720 - val_dense_loss: 2.0720 - val_dense_accuracy: 0.4980 - val_dense_6_accuracy: 3.8532e-04\n",
            "Epoch 36/200\n",
            "10/10 [==============================] - 7s 656ms/step - loss: 1.7604 - dense_loss: 1.7604 - dense_accuracy: 0.5427 - dense_6_accuracy: 2.4888e-04 - val_loss: 2.0541 - val_dense_loss: 2.0541 - val_dense_accuracy: 0.5016 - val_dense_6_accuracy: 5.8716e-04\n",
            "Epoch 37/200\n",
            "10/10 [==============================] - 7s 656ms/step - loss: 1.7381 - dense_loss: 1.7381 - dense_accuracy: 0.5471 - dense_6_accuracy: 2.6724e-04 - val_loss: 2.0399 - val_dense_loss: 2.0399 - val_dense_accuracy: 0.5060 - val_dense_6_accuracy: 5.3211e-04\n",
            "Epoch 38/200\n",
            "10/10 [==============================] - 7s 657ms/step - loss: 1.7143 - dense_loss: 1.7143 - dense_accuracy: 0.5520 - dense_6_accuracy: 3.0192e-04 - val_loss: 2.0314 - val_dense_loss: 2.0314 - val_dense_accuracy: 0.5084 - val_dense_6_accuracy: 3.8532e-04\n",
            "Epoch 39/200\n",
            "10/10 [==============================] - 7s 650ms/step - loss: 1.6968 - dense_loss: 1.6968 - dense_accuracy: 0.5553 - dense_6_accuracy: 2.3868e-04 - val_loss: 2.0074 - val_dense_loss: 2.0074 - val_dense_accuracy: 0.5135 - val_dense_6_accuracy: 3.6697e-04\n",
            "Epoch 40/200\n",
            "10/10 [==============================] - 7s 648ms/step - loss: 1.6755 - dense_loss: 1.6755 - dense_accuracy: 0.5591 - dense_6_accuracy: 2.4888e-04 - val_loss: 1.9955 - val_dense_loss: 1.9955 - val_dense_accuracy: 0.5154 - val_dense_6_accuracy: 3.3028e-04\n",
            "Epoch 41/200\n",
            "10/10 [==============================] - 6s 651ms/step - loss: 1.6567 - dense_loss: 1.6567 - dense_accuracy: 0.5615 - dense_6_accuracy: 2.6928e-04 - val_loss: 1.9859 - val_dense_loss: 1.9859 - val_dense_accuracy: 0.5183 - val_dense_6_accuracy: 3.6697e-04\n",
            "Epoch 42/200\n",
            "10/10 [==============================] - 7s 653ms/step - loss: 1.6389 - dense_loss: 1.6389 - dense_accuracy: 0.5658 - dense_6_accuracy: 2.4684e-04 - val_loss: 1.9752 - val_dense_loss: 1.9752 - val_dense_accuracy: 0.5182 - val_dense_6_accuracy: 2.9358e-04\n",
            "Epoch 43/200\n",
            "10/10 [==============================] - 7s 656ms/step - loss: 1.6218 - dense_loss: 1.6218 - dense_accuracy: 0.5700 - dense_6_accuracy: 2.0808e-04 - val_loss: 1.9623 - val_dense_loss: 1.9623 - val_dense_accuracy: 0.5211 - val_dense_6_accuracy: 2.0183e-04\n",
            "Epoch 44/200\n",
            "10/10 [==============================] - 7s 658ms/step - loss: 1.6042 - dense_loss: 1.6042 - dense_accuracy: 0.5724 - dense_6_accuracy: 1.6524e-04 - val_loss: 1.9578 - val_dense_loss: 1.9578 - val_dense_accuracy: 0.5286 - val_dense_6_accuracy: 2.3853e-04\n",
            "Epoch 45/200\n",
            "10/10 [==============================] - 7s 656ms/step - loss: 1.5877 - dense_loss: 1.5877 - dense_accuracy: 0.5748 - dense_6_accuracy: 2.0604e-04 - val_loss: 1.9568 - val_dense_loss: 1.9568 - val_dense_accuracy: 0.5264 - val_dense_6_accuracy: 4.2202e-04\n",
            "Epoch 46/200\n",
            "10/10 [==============================] - 7s 656ms/step - loss: 1.5741 - dense_loss: 1.5741 - dense_accuracy: 0.5781 - dense_6_accuracy: 2.4276e-04 - val_loss: 1.9457 - val_dense_loss: 1.9457 - val_dense_accuracy: 0.5292 - val_dense_6_accuracy: 2.9358e-04\n",
            "Epoch 47/200\n",
            "10/10 [==============================] - 7s 653ms/step - loss: 1.5613 - dense_loss: 1.5613 - dense_accuracy: 0.5807 - dense_6_accuracy: 2.5500e-04 - val_loss: 1.9348 - val_dense_loss: 1.9348 - val_dense_accuracy: 0.5280 - val_dense_6_accuracy: 3.6697e-05\n",
            "Epoch 48/200\n",
            "10/10 [==============================] - 7s 652ms/step - loss: 1.5506 - dense_loss: 1.5506 - dense_accuracy: 0.5832 - dense_6_accuracy: 2.0196e-04 - val_loss: 1.9292 - val_dense_loss: 1.9292 - val_dense_accuracy: 0.5309 - val_dense_6_accuracy: 5.5046e-05\n",
            "Epoch 49/200\n",
            "10/10 [==============================] - 7s 653ms/step - loss: 1.5410 - dense_loss: 1.5410 - dense_accuracy: 0.5834 - dense_6_accuracy: 1.5912e-04 - val_loss: 1.9237 - val_dense_loss: 1.9237 - val_dense_accuracy: 0.5335 - val_dense_6_accuracy: 1.8349e-04\n",
            "Epoch 50/200\n",
            "10/10 [==============================] - 7s 655ms/step - loss: 1.5264 - dense_loss: 1.5264 - dense_accuracy: 0.5860 - dense_6_accuracy: 1.6932e-04 - val_loss: 1.9225 - val_dense_loss: 1.9225 - val_dense_accuracy: 0.5360 - val_dense_6_accuracy: 7.3394e-05\n",
            "Epoch 51/200\n",
            "10/10 [==============================] - 7s 650ms/step - loss: 1.5112 - dense_loss: 1.5112 - dense_accuracy: 0.5899 - dense_6_accuracy: 1.6116e-04 - val_loss: 1.8923 - val_dense_loss: 1.8923 - val_dense_accuracy: 0.5414 - val_dense_6_accuracy: 1.4679e-04\n",
            "Epoch 52/200\n",
            "10/10 [==============================] - 7s 648ms/step - loss: 1.4936 - dense_loss: 1.4936 - dense_accuracy: 0.5936 - dense_6_accuracy: 1.6728e-04 - val_loss: 1.8948 - val_dense_loss: 1.8948 - val_dense_accuracy: 0.5415 - val_dense_6_accuracy: 2.0183e-04\n",
            "Epoch 53/200\n",
            "10/10 [==============================] - 7s 652ms/step - loss: 1.4818 - dense_loss: 1.4818 - dense_accuracy: 0.5955 - dense_6_accuracy: 2.1216e-04 - val_loss: 1.8833 - val_dense_loss: 1.8833 - val_dense_accuracy: 0.5438 - val_dense_6_accuracy: 3.1193e-04\n",
            "Epoch 54/200\n",
            "10/10 [==============================] - 7s 658ms/step - loss: 1.4640 - dense_loss: 1.4640 - dense_accuracy: 0.5992 - dense_6_accuracy: 1.7340e-04 - val_loss: 1.8757 - val_dense_loss: 1.8757 - val_dense_accuracy: 0.5452 - val_dense_6_accuracy: 1.6514e-04\n",
            "Epoch 55/200\n",
            "10/10 [==============================] - 7s 659ms/step - loss: 1.4479 - dense_loss: 1.4479 - dense_accuracy: 0.6026 - dense_6_accuracy: 1.8768e-04 - val_loss: 1.8668 - val_dense_loss: 1.8668 - val_dense_accuracy: 0.5490 - val_dense_6_accuracy: 1.8349e-04\n",
            "Epoch 56/200\n",
            "10/10 [==============================] - 7s 661ms/step - loss: 1.4334 - dense_loss: 1.4334 - dense_accuracy: 0.6044 - dense_6_accuracy: 2.4684e-04 - val_loss: 1.8520 - val_dense_loss: 1.8520 - val_dense_accuracy: 0.5510 - val_dense_6_accuracy: 2.0183e-04\n",
            "Epoch 57/200\n",
            "10/10 [==============================] - 7s 650ms/step - loss: 1.4176 - dense_loss: 1.4176 - dense_accuracy: 0.6080 - dense_6_accuracy: 2.2644e-04 - val_loss: 1.8545 - val_dense_loss: 1.8545 - val_dense_accuracy: 0.5511 - val_dense_6_accuracy: 1.4679e-04\n",
            "Epoch 58/200\n",
            "10/10 [==============================] - 7s 652ms/step - loss: 1.4045 - dense_loss: 1.4045 - dense_accuracy: 0.6111 - dense_6_accuracy: 2.0196e-04 - val_loss: 1.8434 - val_dense_loss: 1.8434 - val_dense_accuracy: 0.5540 - val_dense_6_accuracy: 1.2844e-04\n",
            "Epoch 59/200\n",
            "10/10 [==============================] - 7s 646ms/step - loss: 1.3896 - dense_loss: 1.3896 - dense_accuracy: 0.6132 - dense_6_accuracy: 2.1012e-04 - val_loss: 1.8394 - val_dense_loss: 1.8394 - val_dense_accuracy: 0.5554 - val_dense_6_accuracy: 9.1743e-05\n",
            "Epoch 60/200\n",
            "10/10 [==============================] - 6s 649ms/step - loss: 1.3778 - dense_loss: 1.3778 - dense_accuracy: 0.6161 - dense_6_accuracy: 1.9176e-04 - val_loss: 1.8362 - val_dense_loss: 1.8362 - val_dense_accuracy: 0.5570 - val_dense_6_accuracy: 2.3853e-04\n",
            "Epoch 61/200\n",
            "10/10 [==============================] - 7s 653ms/step - loss: 1.3675 - dense_loss: 1.3675 - dense_accuracy: 0.6184 - dense_6_accuracy: 1.6116e-04 - val_loss: 1.8253 - val_dense_loss: 1.8253 - val_dense_accuracy: 0.5600 - val_dense_6_accuracy: 1.1009e-04\n",
            "Epoch 62/200\n",
            "10/10 [==============================] - 7s 656ms/step - loss: 1.3612 - dense_loss: 1.3612 - dense_accuracy: 0.6187 - dense_6_accuracy: 1.8768e-04 - val_loss: 1.8212 - val_dense_loss: 1.8212 - val_dense_accuracy: 0.5581 - val_dense_6_accuracy: 2.0183e-04\n",
            "Epoch 63/200\n",
            "10/10 [==============================] - 7s 656ms/step - loss: 1.3480 - dense_loss: 1.3480 - dense_accuracy: 0.6212 - dense_6_accuracy: 1.5912e-04 - val_loss: 1.8200 - val_dense_loss: 1.8200 - val_dense_accuracy: 0.5621 - val_dense_6_accuracy: 1.4679e-04\n",
            "Epoch 64/200\n",
            "10/10 [==============================] - 7s 652ms/step - loss: 1.3394 - dense_loss: 1.3394 - dense_accuracy: 0.6233 - dense_6_accuracy: 2.1420e-04 - val_loss: 1.8127 - val_dense_loss: 1.8127 - val_dense_accuracy: 0.5633 - val_dense_6_accuracy: 2.2018e-04\n",
            "Epoch 65/200\n",
            "10/10 [==============================] - 7s 653ms/step - loss: 1.3286 - dense_loss: 1.3286 - dense_accuracy: 0.6260 - dense_6_accuracy: 1.5504e-04 - val_loss: 1.8060 - val_dense_loss: 1.8060 - val_dense_accuracy: 0.5633 - val_dense_6_accuracy: 1.8349e-04\n",
            "Epoch 66/200\n",
            "10/10 [==============================] - 7s 654ms/step - loss: 1.3203 - dense_loss: 1.3203 - dense_accuracy: 0.6276 - dense_6_accuracy: 2.3256e-04 - val_loss: 1.8025 - val_dense_loss: 1.8025 - val_dense_accuracy: 0.5657 - val_dense_6_accuracy: 2.2018e-04\n",
            "Epoch 67/200\n",
            "10/10 [==============================] - 7s 651ms/step - loss: 1.3056 - dense_loss: 1.3056 - dense_accuracy: 0.6305 - dense_6_accuracy: 1.6116e-04 - val_loss: 1.7951 - val_dense_loss: 1.7951 - val_dense_accuracy: 0.5678 - val_dense_6_accuracy: 1.2844e-04\n",
            "Epoch 68/200\n",
            "10/10 [==============================] - 7s 653ms/step - loss: 1.2940 - dense_loss: 1.2940 - dense_accuracy: 0.6330 - dense_6_accuracy: 1.8564e-04 - val_loss: 1.7907 - val_dense_loss: 1.7907 - val_dense_accuracy: 0.5699 - val_dense_6_accuracy: 1.1009e-04\n",
            "Epoch 69/200\n",
            "10/10 [==============================] - 7s 656ms/step - loss: 1.2854 - dense_loss: 1.2854 - dense_accuracy: 0.6351 - dense_6_accuracy: 1.9176e-04 - val_loss: 1.7867 - val_dense_loss: 1.7867 - val_dense_accuracy: 0.5721 - val_dense_6_accuracy: 7.3394e-05\n",
            "Epoch 70/200\n",
            "10/10 [==============================] - 7s 659ms/step - loss: 1.2781 - dense_loss: 1.2781 - dense_accuracy: 0.6368 - dense_6_accuracy: 2.3664e-04 - val_loss: 1.7795 - val_dense_loss: 1.7795 - val_dense_accuracy: 0.5733 - val_dense_6_accuracy: 1.6514e-04\n",
            "Epoch 71/200\n",
            "10/10 [==============================] - 7s 650ms/step - loss: 1.2682 - dense_loss: 1.2682 - dense_accuracy: 0.6380 - dense_6_accuracy: 2.0400e-04 - val_loss: 1.7885 - val_dense_loss: 1.7885 - val_dense_accuracy: 0.5740 - val_dense_6_accuracy: 9.1743e-05\n",
            "Epoch 72/200\n",
            "10/10 [==============================] - 7s 653ms/step - loss: 1.2595 - dense_loss: 1.2595 - dense_accuracy: 0.6400 - dense_6_accuracy: 1.6116e-04 - val_loss: 1.7771 - val_dense_loss: 1.7771 - val_dense_accuracy: 0.5745 - val_dense_6_accuracy: 1.6514e-04\n",
            "Epoch 73/200\n",
            "10/10 [==============================] - 7s 650ms/step - loss: 1.2542 - dense_loss: 1.2542 - dense_accuracy: 0.6416 - dense_6_accuracy: 1.7544e-04 - val_loss: 1.7687 - val_dense_loss: 1.7687 - val_dense_accuracy: 0.5754 - val_dense_6_accuracy: 2.0183e-04\n",
            "Epoch 74/200\n",
            "10/10 [==============================] - 7s 655ms/step - loss: 1.2455 - dense_loss: 1.2455 - dense_accuracy: 0.6437 - dense_6_accuracy: 1.5504e-04 - val_loss: 1.7642 - val_dense_loss: 1.7642 - val_dense_accuracy: 0.5787 - val_dense_6_accuracy: 1.6514e-04\n",
            "Epoch 75/200\n",
            "10/10 [==============================] - 7s 653ms/step - loss: 1.2398 - dense_loss: 1.2398 - dense_accuracy: 0.6442 - dense_6_accuracy: 2.1216e-04 - val_loss: 1.7696 - val_dense_loss: 1.7696 - val_dense_accuracy: 0.5803 - val_dense_6_accuracy: 2.9358e-04\n",
            "Epoch 76/200\n",
            "10/10 [==============================] - 7s 657ms/step - loss: 1.2294 - dense_loss: 1.2294 - dense_accuracy: 0.6467 - dense_6_accuracy: 2.0196e-04 - val_loss: 1.7549 - val_dense_loss: 1.7549 - val_dense_accuracy: 0.5807 - val_dense_6_accuracy: 2.5688e-04\n",
            "Epoch 77/200\n",
            "10/10 [==============================] - 7s 651ms/step - loss: 1.2207 - dense_loss: 1.2207 - dense_accuracy: 0.6488 - dense_6_accuracy: 2.2032e-04 - val_loss: 1.7594 - val_dense_loss: 1.7594 - val_dense_accuracy: 0.5808 - val_dense_6_accuracy: 1.2844e-04\n",
            "Epoch 78/200\n",
            "10/10 [==============================] - 7s 654ms/step - loss: 1.2175 - dense_loss: 1.2175 - dense_accuracy: 0.6495 - dense_6_accuracy: 2.1216e-04 - val_loss: 1.7421 - val_dense_loss: 1.7421 - val_dense_accuracy: 0.5834 - val_dense_6_accuracy: 3.4862e-04\n",
            "Epoch 79/200\n",
            "10/10 [==============================] - 7s 650ms/step - loss: 1.2091 - dense_loss: 1.2091 - dense_accuracy: 0.6516 - dense_6_accuracy: 2.3868e-04 - val_loss: 1.7634 - val_dense_loss: 1.7634 - val_dense_accuracy: 0.5802 - val_dense_6_accuracy: 1.8349e-04\n",
            "Epoch 80/200\n",
            "10/10 [==============================] - 7s 653ms/step - loss: 1.2013 - dense_loss: 1.2013 - dense_accuracy: 0.6532 - dense_6_accuracy: 2.2848e-04 - val_loss: 1.7509 - val_dense_loss: 1.7509 - val_dense_accuracy: 0.5883 - val_dense_6_accuracy: 2.9358e-04\n",
            "Epoch 81/200\n",
            "10/10 [==============================] - 7s 655ms/step - loss: 1.1929 - dense_loss: 1.1929 - dense_accuracy: 0.6553 - dense_6_accuracy: 1.9584e-04 - val_loss: 1.7495 - val_dense_loss: 1.7495 - val_dense_accuracy: 0.5840 - val_dense_6_accuracy: 2.7523e-04\n",
            "Epoch 82/200\n",
            "10/10 [==============================] - 7s 651ms/step - loss: 1.1881 - dense_loss: 1.1881 - dense_accuracy: 0.6557 - dense_6_accuracy: 2.0604e-04 - val_loss: 1.7493 - val_dense_loss: 1.7493 - val_dense_accuracy: 0.5860 - val_dense_6_accuracy: 5.6881e-04\n",
            "Epoch 83/200\n",
            "10/10 [==============================] - 7s 654ms/step - loss: 1.1785 - dense_loss: 1.1785 - dense_accuracy: 0.6588 - dense_6_accuracy: 2.3052e-04 - val_loss: 1.7372 - val_dense_loss: 1.7372 - val_dense_accuracy: 0.5881 - val_dense_6_accuracy: 1.6514e-04\n",
            "Epoch 84/200\n",
            "10/10 [==============================] - 7s 658ms/step - loss: 1.1714 - dense_loss: 1.1714 - dense_accuracy: 0.6609 - dense_6_accuracy: 2.4072e-04 - val_loss: 1.7293 - val_dense_loss: 1.7293 - val_dense_accuracy: 0.5924 - val_dense_6_accuracy: 3.4862e-04\n",
            "Epoch 85/200\n",
            "10/10 [==============================] - 7s 655ms/step - loss: 1.1597 - dense_loss: 1.1597 - dense_accuracy: 0.6631 - dense_6_accuracy: 2.2644e-04 - val_loss: 1.7266 - val_dense_loss: 1.7266 - val_dense_accuracy: 0.5928 - val_dense_6_accuracy: 3.4862e-04\n",
            "Epoch 86/200\n",
            "10/10 [==============================] - 7s 655ms/step - loss: 1.1540 - dense_loss: 1.1540 - dense_accuracy: 0.6642 - dense_6_accuracy: 2.4888e-04 - val_loss: 1.7294 - val_dense_loss: 1.7294 - val_dense_accuracy: 0.5939 - val_dense_6_accuracy: 3.3028e-04\n",
            "Epoch 87/200\n",
            "10/10 [==============================] - 7s 651ms/step - loss: 1.1449 - dense_loss: 1.1449 - dense_accuracy: 0.6668 - dense_6_accuracy: 2.4072e-04 - val_loss: 1.7227 - val_dense_loss: 1.7227 - val_dense_accuracy: 0.5932 - val_dense_6_accuracy: 2.5688e-04\n",
            "Epoch 88/200\n",
            "10/10 [==============================] - 7s 649ms/step - loss: 1.1364 - dense_loss: 1.1364 - dense_accuracy: 0.6682 - dense_6_accuracy: 2.4480e-04 - val_loss: 1.7207 - val_dense_loss: 1.7207 - val_dense_accuracy: 0.5939 - val_dense_6_accuracy: 5.5046e-05\n",
            "Epoch 89/200\n",
            "10/10 [==============================] - 6s 652ms/step - loss: 1.1245 - dense_loss: 1.1245 - dense_accuracy: 0.6714 - dense_6_accuracy: 1.7748e-04 - val_loss: 1.7126 - val_dense_loss: 1.7126 - val_dense_accuracy: 0.5993 - val_dense_6_accuracy: 1.4679e-04\n",
            "Epoch 90/200\n",
            "10/10 [==============================] - 7s 653ms/step - loss: 1.1197 - dense_loss: 1.1197 - dense_accuracy: 0.6735 - dense_6_accuracy: 2.6520e-04 - val_loss: 1.7089 - val_dense_loss: 1.7089 - val_dense_accuracy: 0.5960 - val_dense_6_accuracy: 1.8349e-04\n",
            "Epoch 91/200\n",
            "10/10 [==============================] - 7s 654ms/step - loss: 1.1142 - dense_loss: 1.1142 - dense_accuracy: 0.6733 - dense_6_accuracy: 2.1624e-04 - val_loss: 1.7126 - val_dense_loss: 1.7126 - val_dense_accuracy: 0.6003 - val_dense_6_accuracy: 1.4679e-04\n",
            "Epoch 92/200\n",
            "10/10 [==============================] - 7s 656ms/step - loss: 1.1104 - dense_loss: 1.1104 - dense_accuracy: 0.6737 - dense_6_accuracy: 2.6112e-04 - val_loss: 1.7055 - val_dense_loss: 1.7055 - val_dense_accuracy: 0.6017 - val_dense_6_accuracy: 2.3853e-04\n",
            "Epoch 93/200\n",
            "10/10 [==============================] - 7s 654ms/step - loss: 1.1072 - dense_loss: 1.1072 - dense_accuracy: 0.6744 - dense_6_accuracy: 2.7336e-04 - val_loss: 1.7098 - val_dense_loss: 1.7098 - val_dense_accuracy: 0.6015 - val_dense_6_accuracy: 2.2018e-04\n",
            "Epoch 94/200\n",
            "10/10 [==============================] - 7s 654ms/step - loss: 1.1021 - dense_loss: 1.1021 - dense_accuracy: 0.6765 - dense_6_accuracy: 2.3052e-04 - val_loss: 1.7088 - val_dense_loss: 1.7088 - val_dense_accuracy: 0.5972 - val_dense_6_accuracy: 1.6514e-04\n",
            "Epoch 95/200\n",
            "10/10 [==============================] - 7s 652ms/step - loss: 1.1011 - dense_loss: 1.1011 - dense_accuracy: 0.6768 - dense_6_accuracy: 2.3256e-04 - val_loss: 1.7122 - val_dense_loss: 1.7122 - val_dense_accuracy: 0.5979 - val_dense_6_accuracy: 2.3853e-04\n",
            "Epoch 96/200\n",
            "10/10 [==============================] - 7s 656ms/step - loss: 1.0970 - dense_loss: 1.0970 - dense_accuracy: 0.6778 - dense_6_accuracy: 2.1420e-04 - val_loss: 1.6988 - val_dense_loss: 1.6988 - val_dense_accuracy: 0.6040 - val_dense_6_accuracy: 1.2844e-04\n",
            "Epoch 97/200\n",
            "10/10 [==============================] - 7s 650ms/step - loss: 1.0875 - dense_loss: 1.0875 - dense_accuracy: 0.6803 - dense_6_accuracy: 1.9584e-04 - val_loss: 1.7039 - val_dense_loss: 1.7039 - val_dense_accuracy: 0.6028 - val_dense_6_accuracy: 1.1009e-04\n",
            "Epoch 98/200\n",
            "10/10 [==============================] - 7s 652ms/step - loss: 1.0803 - dense_loss: 1.0803 - dense_accuracy: 0.6817 - dense_6_accuracy: 2.2032e-04 - val_loss: 1.7016 - val_dense_loss: 1.7016 - val_dense_accuracy: 0.6031 - val_dense_6_accuracy: 1.2844e-04\n",
            "Epoch 99/200\n",
            "10/10 [==============================] - 7s 656ms/step - loss: 1.0724 - dense_loss: 1.0724 - dense_accuracy: 0.6834 - dense_6_accuracy: 2.6112e-04 - val_loss: 1.6980 - val_dense_loss: 1.6980 - val_dense_accuracy: 0.6039 - val_dense_6_accuracy: 2.0183e-04\n",
            "Epoch 100/200\n",
            "10/10 [==============================] - 7s 657ms/step - loss: 1.0687 - dense_loss: 1.0687 - dense_accuracy: 0.6842 - dense_6_accuracy: 2.2236e-04 - val_loss: 1.6870 - val_dense_loss: 1.6870 - val_dense_accuracy: 0.6101 - val_dense_6_accuracy: 1.4679e-04\n",
            "Epoch 101/200\n",
            "10/10 [==============================] - 7s 650ms/step - loss: 1.0582 - dense_loss: 1.0582 - dense_accuracy: 0.6869 - dense_6_accuracy: 2.8968e-04 - val_loss: 1.6949 - val_dense_loss: 1.6949 - val_dense_accuracy: 0.6079 - val_dense_6_accuracy: 1.1009e-04\n",
            "Epoch 102/200\n",
            "10/10 [==============================] - 7s 651ms/step - loss: 1.0541 - dense_loss: 1.0541 - dense_accuracy: 0.6886 - dense_6_accuracy: 2.5092e-04 - val_loss: 1.6876 - val_dense_loss: 1.6876 - val_dense_accuracy: 0.6061 - val_dense_6_accuracy: 1.8349e-04\n",
            "Epoch 103/200\n",
            "10/10 [==============================] - 7s 653ms/step - loss: 1.0480 - dense_loss: 1.0480 - dense_accuracy: 0.6891 - dense_6_accuracy: 2.6724e-04 - val_loss: 1.6920 - val_dense_loss: 1.6920 - val_dense_accuracy: 0.6072 - val_dense_6_accuracy: 2.2018e-04\n",
            "Epoch 104/200\n",
            "10/10 [==============================] - 7s 652ms/step - loss: 1.0447 - dense_loss: 1.0447 - dense_accuracy: 0.6905 - dense_6_accuracy: 2.8152e-04 - val_loss: 1.6810 - val_dense_loss: 1.6810 - val_dense_accuracy: 0.6076 - val_dense_6_accuracy: 1.4679e-04\n",
            "Epoch 105/200\n",
            "10/10 [==============================] - 7s 653ms/step - loss: 1.0368 - dense_loss: 1.0368 - dense_accuracy: 0.6928 - dense_6_accuracy: 2.2236e-04 - val_loss: 1.6789 - val_dense_loss: 1.6789 - val_dense_accuracy: 0.6100 - val_dense_6_accuracy: 7.3394e-05\n",
            "Epoch 106/200\n",
            "10/10 [==============================] - 7s 654ms/step - loss: 1.0321 - dense_loss: 1.0321 - dense_accuracy: 0.6943 - dense_6_accuracy: 2.2236e-04 - val_loss: 1.6837 - val_dense_loss: 1.6837 - val_dense_accuracy: 0.6123 - val_dense_6_accuracy: 1.2844e-04\n",
            "Epoch 107/200\n",
            "10/10 [==============================] - 7s 655ms/step - loss: 1.0285 - dense_loss: 1.0285 - dense_accuracy: 0.6955 - dense_6_accuracy: 2.6928e-04 - val_loss: 1.6771 - val_dense_loss: 1.6771 - val_dense_accuracy: 0.6111 - val_dense_6_accuracy: 1.6514e-04\n",
            "Epoch 108/200\n",
            "10/10 [==============================] - 7s 652ms/step - loss: 1.0223 - dense_loss: 1.0223 - dense_accuracy: 0.6960 - dense_6_accuracy: 2.8764e-04 - val_loss: 1.6836 - val_dense_loss: 1.6836 - val_dense_accuracy: 0.6138 - val_dense_6_accuracy: 1.1009e-04\n",
            "Epoch 109/200\n",
            "10/10 [==============================] - 7s 654ms/step - loss: 1.0187 - dense_loss: 1.0187 - dense_accuracy: 0.6980 - dense_6_accuracy: 3.1620e-04 - val_loss: 1.6827 - val_dense_loss: 1.6827 - val_dense_accuracy: 0.6120 - val_dense_6_accuracy: 1.6514e-04\n",
            "Epoch 110/200\n",
            "10/10 [==============================] - 7s 657ms/step - loss: 1.0120 - dense_loss: 1.0120 - dense_accuracy: 0.6991 - dense_6_accuracy: 2.6724e-04 - val_loss: 1.6721 - val_dense_loss: 1.6721 - val_dense_accuracy: 0.6161 - val_dense_6_accuracy: 1.6514e-04\n",
            "Epoch 111/200\n",
            "10/10 [==============================] - 7s 653ms/step - loss: 1.0074 - dense_loss: 1.0074 - dense_accuracy: 0.7007 - dense_6_accuracy: 3.0396e-04 - val_loss: 1.6723 - val_dense_loss: 1.6723 - val_dense_accuracy: 0.6195 - val_dense_6_accuracy: 1.1009e-04\n",
            "Epoch 112/200\n",
            "10/10 [==============================] - 7s 654ms/step - loss: 1.0033 - dense_loss: 1.0033 - dense_accuracy: 0.7020 - dense_6_accuracy: 3.0192e-04 - val_loss: 1.6707 - val_dense_loss: 1.6707 - val_dense_accuracy: 0.6172 - val_dense_6_accuracy: 1.2844e-04\n",
            "Epoch 113/200\n",
            "10/10 [==============================] - 7s 654ms/step - loss: 0.9978 - dense_loss: 0.9978 - dense_accuracy: 0.7025 - dense_6_accuracy: 3.2844e-04 - val_loss: 1.6736 - val_dense_loss: 1.6736 - val_dense_accuracy: 0.6188 - val_dense_6_accuracy: 2.0183e-04\n",
            "Epoch 114/200\n",
            "10/10 [==============================] - 7s 649ms/step - loss: 0.9926 - dense_loss: 0.9926 - dense_accuracy: 0.7045 - dense_6_accuracy: 3.6720e-04 - val_loss: 1.6664 - val_dense_loss: 1.6664 - val_dense_accuracy: 0.6210 - val_dense_6_accuracy: 1.1009e-04\n",
            "Epoch 115/200\n",
            "10/10 [==============================] - 7s 648ms/step - loss: 0.9857 - dense_loss: 0.9857 - dense_accuracy: 0.7061 - dense_6_accuracy: 2.6520e-04 - val_loss: 1.6614 - val_dense_loss: 1.6614 - val_dense_accuracy: 0.6216 - val_dense_6_accuracy: 1.1009e-04\n",
            "Epoch 116/200\n",
            "10/10 [==============================] - 7s 653ms/step - loss: 0.9776 - dense_loss: 0.9776 - dense_accuracy: 0.7086 - dense_6_accuracy: 2.8152e-04 - val_loss: 1.6594 - val_dense_loss: 1.6594 - val_dense_accuracy: 0.6204 - val_dense_6_accuracy: 1.4679e-04\n",
            "Epoch 117/200\n",
            "10/10 [==============================] - 7s 654ms/step - loss: 0.9725 - dense_loss: 0.9725 - dense_accuracy: 0.7093 - dense_6_accuracy: 2.5908e-04 - val_loss: 1.6612 - val_dense_loss: 1.6612 - val_dense_accuracy: 0.6215 - val_dense_6_accuracy: 7.3394e-05\n",
            "Epoch 118/200\n",
            "10/10 [==============================] - 7s 662ms/step - loss: 0.9665 - dense_loss: 0.9665 - dense_accuracy: 0.7113 - dense_6_accuracy: 2.9580e-04 - val_loss: 1.6448 - val_dense_loss: 1.6448 - val_dense_accuracy: 0.6256 - val_dense_6_accuracy: 1.8349e-04\n",
            "Epoch 119/200\n",
            "10/10 [==============================] - 7s 660ms/step - loss: 0.9597 - dense_loss: 0.9597 - dense_accuracy: 0.7126 - dense_6_accuracy: 2.4072e-04 - val_loss: 1.6613 - val_dense_loss: 1.6613 - val_dense_accuracy: 0.6261 - val_dense_6_accuracy: 9.1743e-05\n",
            "Epoch 120/200\n",
            "10/10 [==============================] - 7s 655ms/step - loss: 0.9511 - dense_loss: 0.9511 - dense_accuracy: 0.7151 - dense_6_accuracy: 2.2236e-04 - val_loss: 1.6566 - val_dense_loss: 1.6566 - val_dense_accuracy: 0.6255 - val_dense_6_accuracy: 1.1009e-04\n",
            "Epoch 121/200\n",
            "10/10 [==============================] - 7s 651ms/step - loss: 0.9500 - dense_loss: 0.9500 - dense_accuracy: 0.7149 - dense_6_accuracy: 2.3664e-04 - val_loss: 1.6455 - val_dense_loss: 1.6455 - val_dense_accuracy: 0.6280 - val_dense_6_accuracy: 1.2844e-04\n",
            "Epoch 122/200\n",
            "10/10 [==============================] - 6s 648ms/step - loss: 0.9435 - dense_loss: 0.9435 - dense_accuracy: 0.7168 - dense_6_accuracy: 2.7744e-04 - val_loss: 1.6451 - val_dense_loss: 1.6451 - val_dense_accuracy: 0.6300 - val_dense_6_accuracy: 2.7523e-04\n",
            "Epoch 123/200\n",
            "10/10 [==============================] - 7s 648ms/step - loss: 0.9404 - dense_loss: 0.9404 - dense_accuracy: 0.7180 - dense_6_accuracy: 2.4684e-04 - val_loss: 1.6552 - val_dense_loss: 1.6552 - val_dense_accuracy: 0.6287 - val_dense_6_accuracy: 1.6514e-04\n",
            "Epoch 124/200\n",
            "10/10 [==============================] - 7s 646ms/step - loss: 0.9378 - dense_loss: 0.9378 - dense_accuracy: 0.7180 - dense_6_accuracy: 2.4072e-04 - val_loss: 1.6539 - val_dense_loss: 1.6539 - val_dense_accuracy: 0.6325 - val_dense_6_accuracy: 1.2844e-04\n",
            "Epoch 125/200\n",
            "10/10 [==============================] - 7s 651ms/step - loss: 0.9353 - dense_loss: 0.9353 - dense_accuracy: 0.7195 - dense_6_accuracy: 2.5296e-04 - val_loss: 1.6546 - val_dense_loss: 1.6546 - val_dense_accuracy: 0.6307 - val_dense_6_accuracy: 1.8349e-04\n",
            "Epoch 126/200\n",
            "10/10 [==============================] - ETA: 0s - loss: 0.9316 - dense_loss: 0.9316 - dense_accuracy: 0.7204 - dense_6_accuracy: 3.2028e-04Restoring model weights from the end of the best epoch: 118.\n",
            "10/10 [==============================] - 7s 659ms/step - loss: 0.9316 - dense_loss: 0.9316 - dense_accuracy: 0.7204 - dense_6_accuracy: 3.2028e-04 - val_loss: 1.6580 - val_dense_loss: 1.6580 - val_dense_accuracy: 0.6301 - val_dense_6_accuracy: 1.2844e-04\n",
            "Epoch 126: early stopping\n"
          ]
        }
      ]
    },
    {
      "cell_type": "code",
      "source": [
        "model.save('minigpt')"
      ],
      "metadata": {
        "colab": {
          "base_uri": "https://localhost:8080/"
        },
        "id": "tu91HjN9De4g",
        "outputId": "3a932995-edf6-4260-ff24-8b2e0cc64b69"
      },
      "id": "tu91HjN9De4g",
      "execution_count": null,
      "outputs": [
        {
          "output_type": "stream",
          "name": "stderr",
          "text": [
            "WARNING:absl:Found untraced functions such as embedding_layer_call_fn, embedding_layer_call_and_return_conditional_losses, position_embedding_layer_call_fn, position_embedding_layer_call_and_return_conditional_losses, multi_head_attention_layer_call_fn while saving (showing 5 of 70). These functions will not be directly callable after loading.\n"
          ]
        }
      ]
    },
    {
      "cell_type": "markdown",
      "source": [
        "# Accuracy / Loss Plotting"
      ],
      "metadata": {
        "id": "dHICOurn093-"
      },
      "id": "dHICOurn093-"
    },
    {
      "cell_type": "code",
      "source": [
        "fig, axs = plt.subplots(1, 2, figsize=(15,5))\n",
        "\n",
        "axs[0].plot(history.history[list(history.history)[2]], label='Train Accuracy')\n",
        "axs[0].plot(history.history[list(history.history)[-2]], label='Val Accuracy')\n",
        "axs[0].set_title('Accuracy')\n",
        "axs[0].legend()\n",
        "\n",
        "axs[1].plot(history.history[list(history.history)[1]], label='Train Loss')\n",
        "axs[1].plot(history.history[list(history.history)[-3]], label='Val Loss')\n",
        "axs[1].set_title('Loss')\n",
        "axs[1].legend()"
      ],
      "metadata": {
        "id": "4XxFIBo5wBn5",
        "colab": {
          "base_uri": "https://localhost:8080/",
          "height": 353
        },
        "outputId": "04882f64-8ce1-43a4-9f0a-f28621798e89"
      },
      "id": "4XxFIBo5wBn5",
      "execution_count": null,
      "outputs": [
        {
          "output_type": "execute_result",
          "data": {
            "text/plain": [
              "<matplotlib.legend.Legend at 0x7f778b902c50>"
            ]
          },
          "metadata": {},
          "execution_count": 12
        },
        {
          "output_type": "display_data",
          "data": {
            "text/plain": [
              "<Figure size 1080x360 with 2 Axes>"
            ],
            "image/png": "[encoded data removed]"
          },
          "metadata": {
            "needs_background": "light"
          }
        }
      ]
    },
    {
      "cell_type": "code",
      "source": [
        "model.summary()"
      ],
      "metadata": {
        "colab": {
          "base_uri": "https://localhost:8080/"
        },
        "id": "97nom4BV8K7n",
        "outputId": "6fa26fd5-e409-41f7-d8d6-58fb20ba55d5"
      },
      "id": "97nom4BV8K7n",
      "execution_count": null,
      "outputs": [
        {
          "output_type": "stream",
          "name": "stdout",
          "text": [
            "Model: \"model\"\n",
            "_________________________________________________________________\n",
            " Layer (type)                Output Shape              Param #   \n",
            "=================================================================\n",
            " input_1 (InputLayer)        [(None, 100)]             0         \n",
            "                                                                 \n",
            " token_and_position_embeddin  (None, 100, 72)          124488    \n",
            " g (TokenAndPositionEmbeddin                                     \n",
            " g)                                                              \n",
            "                                                                 \n",
            " transformer_block (Transfor  (None, 100, 72)          284192    \n",
            " merBlock)                                                       \n",
            "                                                                 \n",
            " transformer_block_1 (Transf  (None, 100, 72)          284192    \n",
            " ormerBlock)                                                     \n",
            "                                                                 \n",
            " transformer_block_2 (Transf  (None, 100, 72)          284192    \n",
            " ormerBlock)                                                     \n",
            "                                                                 \n",
            " dense_6 (Dense)             (None, 100, 1629)         118917    \n",
            "                                                                 \n",
            " dense (Dense)               (None, 100, 1629)         2655270   \n",
            "                                                                 \n",
            "=================================================================\n",
            "Total params: 3,751,251\n",
            "Trainable params: 3,751,251\n",
            "Non-trainable params: 0\n",
            "_________________________________________________________________\n"
          ]
        }
      ]
    }
  ],
  "metadata": {
    "kernelspec": {
      "display_name": "Python 3",
      "language": "python",
      "name": "python3"
    },
    "language_info": {
      "codemirror_mode": {
        "name": "ipython",
        "version": 3
      },
      "file_extension": ".py",
      "mimetype": "text/x-python",
      "name": "python",
      "nbconvert_exporter": "python",
      "pygments_lexer": "ipython3",
      "version": "3.8.8"
    },
    "colab": {
      "name": "_Training.ipynb",
      "provenance": [],
      "collapsed_sections": [
        "c306bae0-1a59-477d-b278-c70508b81401",
        "9dd04675-1e78-46ee-9e53-2c13fbfa4158"
      ]
    },
    "gpuClass": "standard"
  },
  "nbformat": 4,
  "nbformat_minor": 5
}