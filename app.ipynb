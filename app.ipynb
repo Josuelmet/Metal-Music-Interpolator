{
 "cells": [
  {
   "cell_type": "markdown",
   "id": "6af3b3fd-b3de-48b6-890e-dc8292677e30",
   "metadata": {},
   "source": [
    "# User Interface Demo"
   ]
  },
  {
   "cell_type": "code",
   "execution_count": 4,
   "id": "12647ec4-efd0-407b-a4c3-3f084d28f824",
   "metadata": {},
   "outputs": [],
   "source": [
    "from datetime import datetime\n",
    "import gradio as gr\n",
    "from gradio.components import *\n",
    "import mgzip\n",
    "import numpy as np\n",
    "import pickle\n",
    "from zipfile import ZipFile\n",
    "\n",
    "from _Generation import Generator\n",
    "\n",
    "import tensorflow as tf\n",
    "from tensorflow import keras"
   ]
  },
  {
   "cell_type": "markdown",
   "id": "0ba5e239-9f10-4da1-a31a-aece8b59b0d8",
   "metadata": {
    "tags": []
   },
   "source": [
    "# Load Data and Model"
   ]
  },
  {
   "cell_type": "code",
   "execution_count": 5,
   "id": "3e300bb5-f2e4-4ed5-80d3-00e2c90ac0bd",
   "metadata": {},
   "outputs": [
    {
     "name": "stdout",
     "output_type": "stream",
     "text": [
      "Running on local URL:  http://127.0.0.1:7861/\n",
      "\n",
      "To create a public link, set `share=True` in `launch()`.\n"
     ]
    },
    {
     "data": {
      "text/html": [
       "<div><iframe src=\"http://127.0.0.1:7861/\" width=\"900\" height=\"500\" allow=\"autoplay; camera; microphone;\" frameborder=\"0\" allowfullscreen></iframe></div>"
      ],
      "text/plain": [
       "<IPython.core.display.HTML object>"
      ]
     },
     "metadata": {},
     "output_type": "display_data"
    },
    {
     "data": {
      "text/plain": [
       "(<gradio.routes.App at 0x1e0473decd0>, 'http://127.0.0.1:7861/', None)"
      ]
     },
     "execution_count": 5,
     "metadata": {},
     "output_type": "execute_result"
    },
    {
     "name": "stderr",
     "output_type": "stream",
     "text": [
      "100%|██████████| 5/5 [00:49<00:00,  9.98s/it]\n"
     ]
    },
    {
     "name": "stdout",
     "output_type": "stream",
     "text": [
      "4/4 adjusted correctly: True\n",
      "4/4 adjusted correctly: True\n",
      "WARNING:tensorflow:Unresolved object in checkpoint: (root).__call__\n",
      "WARNING:tensorflow:Unresolved object in checkpoint: (root).call_and_return_all_conditional_losses\n",
      "WARNING:tensorflow:Unresolved object in checkpoint: (root)._default_save_signature\n",
      "WARNING:tensorflow:Unresolved object in checkpoint: (root).layer_with_weights-0.__call__\n",
      "WARNING:tensorflow:Unresolved object in checkpoint: (root).layer_with_weights-0.call_and_return_all_conditional_losses\n",
      "WARNING:tensorflow:Unresolved object in checkpoint: (root).layer_with_weights-1.__call__\n",
      "WARNING:tensorflow:Unresolved object in checkpoint: (root).layer_with_weights-1.call_and_return_all_conditional_losses\n",
      "WARNING:tensorflow:Unresolved object in checkpoint: (root).layer_with_weights-2.__call__\n",
      "WARNING:tensorflow:Unresolved object in checkpoint: (root).layer_with_weights-2.call_and_return_all_conditional_losses\n",
      "WARNING:tensorflow:Unresolved object in checkpoint: (root).layer_with_weights-3.__call__\n",
      "WARNING:tensorflow:Unresolved object in checkpoint: (root).layer_with_weights-3.call_and_return_all_conditional_losses\n",
      "WARNING:tensorflow:Unresolved object in checkpoint: (root).layer_with_weights-4.__call__\n",
      "WARNING:tensorflow:Unresolved object in checkpoint: (root).layer_with_weights-4.call_and_return_all_conditional_losses\n",
      "WARNING:tensorflow:Unresolved object in checkpoint: (root).layer_with_weights-5.__call__\n",
      "WARNING:tensorflow:Unresolved object in checkpoint: (root).layer_with_weights-5.call_and_return_all_conditional_losses\n",
      "WARNING:tensorflow:Unresolved object in checkpoint: (root).signatures.serving_default\n",
      "WARNING:tensorflow:Unresolved object in checkpoint: (root).layer_with_weights-0.token_emb.__call__\n",
      "WARNING:tensorflow:Unresolved object in checkpoint: (root).layer_with_weights-0.token_emb.call_and_return_all_conditional_losses\n",
      "WARNING:tensorflow:Unresolved object in checkpoint: (root).layer_with_weights-0.pos_emb.__call__\n",
      "WARNING:tensorflow:Unresolved object in checkpoint: (root).layer_with_weights-0.pos_emb.call_and_return_all_conditional_losses\n",
      "WARNING:tensorflow:Unresolved object in checkpoint: (root).layer_with_weights-1.att.__call__\n",
      "WARNING:tensorflow:Unresolved object in checkpoint: (root).layer_with_weights-1.att.call_and_return_all_conditional_losses\n",
      "WARNING:tensorflow:Unresolved object in checkpoint: (root).layer_with_weights-1.ffn.__call__\n",
      "WARNING:tensorflow:Unresolved object in checkpoint: (root).layer_with_weights-1.ffn.call_and_return_all_conditional_losses\n",
      "WARNING:tensorflow:Unresolved object in checkpoint: (root).layer_with_weights-1.layernorm1.__call__\n",
      "WARNING:tensorflow:Unresolved object in checkpoint: (root).layer_with_weights-1.layernorm1.call_and_return_all_conditional_losses\n",
      "WARNING:tensorflow:Unresolved object in checkpoint: (root).layer_with_weights-1.layernorm2.__call__\n",
      "WARNING:tensorflow:Unresolved object in checkpoint: (root).layer_with_weights-1.layernorm2.call_and_return_all_conditional_losses\n",
      "WARNING:tensorflow:Unresolved object in checkpoint: (root).layer_with_weights-1.dropout1.__call__\n",
      "WARNING:tensorflow:Unresolved object in checkpoint: (root).layer_with_weights-1.dropout1.call_and_return_all_conditional_losses\n",
      "WARNING:tensorflow:Unresolved object in checkpoint: (root).layer_with_weights-1.dropout2.__call__\n",
      "WARNING:tensorflow:Unresolved object in checkpoint: (root).layer_with_weights-1.dropout2.call_and_return_all_conditional_losses\n",
      "WARNING:tensorflow:Unresolved object in checkpoint: (root).layer_with_weights-2.att.__call__\n",
      "WARNING:tensorflow:Unresolved object in checkpoint: (root).layer_with_weights-2.att.call_and_return_all_conditional_losses\n",
      "WARNING:tensorflow:Unresolved object in checkpoint: (root).layer_with_weights-2.ffn.__call__\n",
      "WARNING:tensorflow:Unresolved object in checkpoint: (root).layer_with_weights-2.ffn.call_and_return_all_conditional_losses\n",
      "WARNING:tensorflow:Unresolved object in checkpoint: (root).layer_with_weights-2.layernorm1.__call__\n",
      "WARNING:tensorflow:Unresolved object in checkpoint: (root).layer_with_weights-2.layernorm1.call_and_return_all_conditional_losses\n",
      "WARNING:tensorflow:Unresolved object in checkpoint: (root).layer_with_weights-2.layernorm2.__call__\n",
      "WARNING:tensorflow:Unresolved object in checkpoint: (root).layer_with_weights-2.layernorm2.call_and_return_all_conditional_losses\n",
      "WARNING:tensorflow:Unresolved object in checkpoint: (root).layer_with_weights-2.dropout1.__call__\n",
      "WARNING:tensorflow:Unresolved object in checkpoint: (root).layer_with_weights-2.dropout1.call_and_return_all_conditional_losses\n",
      "WARNING:tensorflow:Unresolved object in checkpoint: (root).layer_with_weights-2.dropout2.__call__\n",
      "WARNING:tensorflow:Unresolved object in checkpoint: (root).layer_with_weights-2.dropout2.call_and_return_all_conditional_losses\n",
      "WARNING:tensorflow:Unresolved object in checkpoint: (root).layer_with_weights-3.att.__call__\n",
      "WARNING:tensorflow:Unresolved object in checkpoint: (root).layer_with_weights-3.att.call_and_return_all_conditional_losses\n",
      "WARNING:tensorflow:Unresolved object in checkpoint: (root).layer_with_weights-3.ffn.__call__\n",
      "WARNING:tensorflow:Unresolved object in checkpoint: (root).layer_with_weights-3.ffn.call_and_return_all_conditional_losses\n",
      "WARNING:tensorflow:Unresolved object in checkpoint: (root).layer_with_weights-3.layernorm1.__call__\n",
      "WARNING:tensorflow:Unresolved object in checkpoint: (root).layer_with_weights-3.layernorm1.call_and_return_all_conditional_losses\n",
      "WARNING:tensorflow:Unresolved object in checkpoint: (root).layer_with_weights-3.layernorm2.__call__\n",
      "WARNING:tensorflow:Unresolved object in checkpoint: (root).layer_with_weights-3.layernorm2.call_and_return_all_conditional_losses\n",
      "WARNING:tensorflow:Unresolved object in checkpoint: (root).layer_with_weights-3.dropout1.__call__\n",
      "WARNING:tensorflow:Unresolved object in checkpoint: (root).layer_with_weights-3.dropout1.call_and_return_all_conditional_losses\n",
      "WARNING:tensorflow:Unresolved object in checkpoint: (root).layer_with_weights-3.dropout2.__call__\n",
      "WARNING:tensorflow:Unresolved object in checkpoint: (root).layer_with_weights-3.dropout2.call_and_return_all_conditional_losses\n",
      "WARNING:tensorflow:Unresolved object in checkpoint: (root).layer_with_weights-1.att._query_dense.__call__\n",
      "WARNING:tensorflow:Unresolved object in checkpoint: (root).layer_with_weights-1.att._query_dense.call_and_return_all_conditional_losses\n",
      "WARNING:tensorflow:Unresolved object in checkpoint: (root).layer_with_weights-1.att._key_dense.__call__\n",
      "WARNING:tensorflow:Unresolved object in checkpoint: (root).layer_with_weights-1.att._key_dense.call_and_return_all_conditional_losses\n",
      "WARNING:tensorflow:Unresolved object in checkpoint: (root).layer_with_weights-1.att._value_dense.__call__\n",
      "WARNING:tensorflow:Unresolved object in checkpoint: (root).layer_with_weights-1.att._value_dense.call_and_return_all_conditional_losses\n",
      "WARNING:tensorflow:Unresolved object in checkpoint: (root).layer_with_weights-1.att._softmax.__call__\n",
      "WARNING:tensorflow:Unresolved object in checkpoint: (root).layer_with_weights-1.att._softmax.call_and_return_all_conditional_losses\n",
      "WARNING:tensorflow:Unresolved object in checkpoint: (root).layer_with_weights-1.att._dropout_layer.__call__\n",
      "WARNING:tensorflow:Unresolved object in checkpoint: (root).layer_with_weights-1.att._dropout_layer.call_and_return_all_conditional_losses\n",
      "WARNING:tensorflow:Unresolved object in checkpoint: (root).layer_with_weights-1.att._output_dense.__call__\n",
      "WARNING:tensorflow:Unresolved object in checkpoint: (root).layer_with_weights-1.att._output_dense.call_and_return_all_conditional_losses\n",
      "WARNING:tensorflow:Unresolved object in checkpoint: (root).layer_with_weights-1.ffn.layer_with_weights-0.__call__\n",
      "WARNING:tensorflow:Unresolved object in checkpoint: (root).layer_with_weights-1.ffn.layer_with_weights-0.call_and_return_all_conditional_losses\n",
      "WARNING:tensorflow:Unresolved object in checkpoint: (root).layer_with_weights-1.ffn.layer_with_weights-1.__call__\n",
      "WARNING:tensorflow:Unresolved object in checkpoint: (root).layer_with_weights-1.ffn.layer_with_weights-1.call_and_return_all_conditional_losses\n",
      "WARNING:tensorflow:Unresolved object in checkpoint: (root).layer_with_weights-2.att._query_dense.__call__\n",
      "WARNING:tensorflow:Unresolved object in checkpoint: (root).layer_with_weights-2.att._query_dense.call_and_return_all_conditional_losses\n",
      "WARNING:tensorflow:Unresolved object in checkpoint: (root).layer_with_weights-2.att._key_dense.__call__\n",
      "WARNING:tensorflow:Unresolved object in checkpoint: (root).layer_with_weights-2.att._key_dense.call_and_return_all_conditional_losses\n",
      "WARNING:tensorflow:Unresolved object in checkpoint: (root).layer_with_weights-2.att._value_dense.__call__\n",
      "WARNING:tensorflow:Unresolved object in checkpoint: (root).layer_with_weights-2.att._value_dense.call_and_return_all_conditional_losses\n",
      "WARNING:tensorflow:Unresolved object in checkpoint: (root).layer_with_weights-2.att._softmax.__call__\n",
      "WARNING:tensorflow:Unresolved object in checkpoint: (root).layer_with_weights-2.att._softmax.call_and_return_all_conditional_losses\n",
      "WARNING:tensorflow:Unresolved object in checkpoint: (root).layer_with_weights-2.att._dropout_layer.__call__\n",
      "WARNING:tensorflow:Unresolved object in checkpoint: (root).layer_with_weights-2.att._dropout_layer.call_and_return_all_conditional_losses\n",
      "WARNING:tensorflow:Unresolved object in checkpoint: (root).layer_with_weights-2.att._output_dense.__call__\n",
      "WARNING:tensorflow:Unresolved object in checkpoint: (root).layer_with_weights-2.att._output_dense.call_and_return_all_conditional_losses\n",
      "WARNING:tensorflow:Unresolved object in checkpoint: (root).layer_with_weights-2.ffn.layer_with_weights-0.__call__\n",
      "WARNING:tensorflow:Unresolved object in checkpoint: (root).layer_with_weights-2.ffn.layer_with_weights-0.call_and_return_all_conditional_losses\n",
      "WARNING:tensorflow:Unresolved object in checkpoint: (root).layer_with_weights-2.ffn.layer_with_weights-1.__call__\n",
      "WARNING:tensorflow:Unresolved object in checkpoint: (root).layer_with_weights-2.ffn.layer_with_weights-1.call_and_return_all_conditional_losses\n",
      "WARNING:tensorflow:Unresolved object in checkpoint: (root).layer_with_weights-3.att._query_dense.__call__\n",
      "WARNING:tensorflow:Unresolved object in checkpoint: (root).layer_with_weights-3.att._query_dense.call_and_return_all_conditional_losses\n",
      "WARNING:tensorflow:Unresolved object in checkpoint: (root).layer_with_weights-3.att._key_dense.__call__\n",
      "WARNING:tensorflow:Unresolved object in checkpoint: (root).layer_with_weights-3.att._key_dense.call_and_return_all_conditional_losses\n",
      "WARNING:tensorflow:Unresolved object in checkpoint: (root).layer_with_weights-3.att._value_dense.__call__\n",
      "WARNING:tensorflow:Unresolved object in checkpoint: (root).layer_with_weights-3.att._value_dense.call_and_return_all_conditional_losses\n",
      "WARNING:tensorflow:Unresolved object in checkpoint: (root).layer_with_weights-3.att._softmax.__call__\n",
      "WARNING:tensorflow:Unresolved object in checkpoint: (root).layer_with_weights-3.att._softmax.call_and_return_all_conditional_losses\n",
      "WARNING:tensorflow:Unresolved object in checkpoint: (root).layer_with_weights-3.att._dropout_layer.__call__\n",
      "WARNING:tensorflow:Unresolved object in checkpoint: (root).layer_with_weights-3.att._dropout_layer.call_and_return_all_conditional_losses\n",
      "WARNING:tensorflow:Unresolved object in checkpoint: (root).layer_with_weights-3.att._output_dense.__call__\n",
      "WARNING:tensorflow:Unresolved object in checkpoint: (root).layer_with_weights-3.att._output_dense.call_and_return_all_conditional_losses\n",
      "WARNING:tensorflow:Unresolved object in checkpoint: (root).layer_with_weights-3.ffn.layer_with_weights-0.__call__\n",
      "WARNING:tensorflow:Unresolved object in checkpoint: (root).layer_with_weights-3.ffn.layer_with_weights-0.call_and_return_all_conditional_losses\n",
      "WARNING:tensorflow:Unresolved object in checkpoint: (root).layer_with_weights-3.ffn.layer_with_weights-1.__call__\n",
      "WARNING:tensorflow:Unresolved object in checkpoint: (root).layer_with_weights-3.ffn.layer_with_weights-1.call_and_return_all_conditional_losses\n",
      "WARNING:tensorflow:A checkpoint was restored (e.g. tf.train.Checkpoint.restore or tf.keras.Model.load_weights) but not all checkpointed values were used. See above for specific issues. Use expect_partial() on the load status object, e.g. tf.train.Checkpoint.restore(...).expect_partial(), to silence these warnings, or use assert_consumed() to make the check explicit. See https://www.tensorflow.org/guide/checkpoint#loading_mechanics for details.\n",
      "4/4 adjusted correctly: True\n",
      "4/4 adjusted correctly: True\n",
      "4/4 adjusted correctly: True\n",
      "Finished\n"
     ]
    },
    {
     "name": "stderr",
     "output_type": "stream",
     "text": [
      "100%|██████████| 5/5 [00:39<00:00,  7.98s/it]\n"
     ]
    },
    {
     "name": "stdout",
     "output_type": "stream",
     "text": [
      "4/4 adjusted correctly: True\n",
      "4/4 adjusted correctly: True\n",
      "4/4 adjusted correctly: True\n",
      "4/4 adjusted correctly: True\n",
      "4/4 adjusted correctly: True\n",
      "Finished\n"
     ]
    }
   ],
   "source": [
    "gen = Generator()\n",
    "\n",
    "def main(artist):\n",
    "    \n",
    "    if artist == 'Any':\n",
    "        artist = None\n",
    "    gen.generate_track_batch(artist)\n",
    "    filename = f'generation_{datetime.now().strftime(\"%Y_%m_%d %H_%M_%S\")}.gp5'\n",
    "    gen.save_tracks(filename)\n",
    "    \n",
    "    # create a ZipFile object\n",
    "    zipObj = ZipFile(filename.replace('.gp5', '.zip'), \"w\")\n",
    "    zipObj.write(filename)\n",
    "    zipObj.close()\n",
    "\n",
    "    return filename.replace('.gp5', '.zip')\n",
    "\n",
    "with mgzip.open('data\\\\track_data.pickle.gz') as file:\n",
    "    track_data = pickle.load(file)\n",
    "\n",
    "    \n",
    "inputs = Radio(['Any'] + list(track_data.artist.unique()), label='Choose an Artist for Song Initialization:')\n",
    "\n",
    "\n",
    "i = gr.Interface(fn = main, inputs = inputs,\n",
    "                 outputs = File())\n",
    "i.launch()"
   ]
  }
 ],
 "metadata": {
  "kernelspec": {
   "display_name": "Python 3",
   "language": "python",
   "name": "python3"
  },
  "language_info": {
   "codemirror_mode": {
    "name": "ipython",
    "version": 3
   },
   "file_extension": ".py",
   "mimetype": "text/x-python",
   "name": "python",
   "nbconvert_exporter": "python",
   "pygments_lexer": "ipython3",
   "version": "3.8.8"
  }
 },
 "nbformat": 4,
 "nbformat_minor": 5
}
